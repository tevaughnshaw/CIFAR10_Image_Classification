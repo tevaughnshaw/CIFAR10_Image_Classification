{
 "cells": [
  {
   "cell_type": "code",
   "execution_count": 37,
   "id": "50ed324c",
   "metadata": {},
   "outputs": [],
   "source": [
    "import tensorflow as tf\n",
    "from tensorflow import keras\n",
    "\n",
    "import matplotlib.pyplot as plt\n",
    "import numpy as np\n",
    "import ssl # to fix URL fetch failure error when loading in dataset\n",
    "ssl._create_default_https_context = ssl._create_unverified_context"
   ]
  },
  {
   "cell_type": "code",
   "execution_count": 38,
   "id": "37d22d07",
   "metadata": {},
   "outputs": [],
   "source": [
    "(x_train, y_train), (x_test, y_test) = tf.keras.datasets.cifar10.load_data()\n",
    "\n"
   ]
  },
  {
   "cell_type": "markdown",
   "id": "05ac3f14",
   "metadata": {},
   "source": [
    "## Shape of Training Set"
   ]
  },
  {
   "cell_type": "code",
   "execution_count": 39,
   "id": "0833a845",
   "metadata": {},
   "outputs": [
    {
     "data": {
      "text/plain": [
       "(50000, 32, 32, 3)"
      ]
     },
     "execution_count": 39,
     "metadata": {},
     "output_type": "execute_result"
    }
   ],
   "source": [
    "x_train.shape"
   ]
  },
  {
   "cell_type": "code",
   "execution_count": 40,
   "id": "4740c508",
   "metadata": {},
   "outputs": [
    {
     "data": {
      "text/plain": [
       "array([[6],\n",
       "       [9],\n",
       "       [9],\n",
       "       [4],\n",
       "       [1]], dtype=uint8)"
      ]
     },
     "execution_count": 40,
     "metadata": {},
     "output_type": "execute_result"
    }
   ],
   "source": [
    "# Peek at what first 5 classifications are in y_train\n",
    "y_train[0:5]"
   ]
  },
  {
   "cell_type": "markdown",
   "id": "156fd5f0",
   "metadata": {},
   "source": [
    "### according to nums shown in y_train are indx values for \n",
    "### training set category names (6=frog, 9=truck, etc.)"
   ]
  },
  {
   "cell_type": "code",
   "execution_count": 41,
   "id": "33546db5",
   "metadata": {},
   "outputs": [],
   "source": [
    "# plotly function to display image in set\n",
    "def plot_sample(index):\n",
    "    plt.figure(figsize = (10,1))\n",
    "    plt.imshow(x_train[index])"
   ]
  },
  {
   "cell_type": "code",
   "execution_count": 42,
   "id": "63b985a7",
   "metadata": {},
   "outputs": [
    {
     "data": {
      "image/png": "[encoded data removed]",
      "text/plain": [
       "<Figure size 720x72 with 1 Axes>"
      ]
     },
     "metadata": {
      "needs_background": "light"
     },
     "output_type": "display_data"
    }
   ],
   "source": [
    "plot_sample(0) #first image in train set"
   ]
  },
  {
   "cell_type": "code",
   "execution_count": 43,
   "id": "c7e07ed9",
   "metadata": {},
   "outputs": [
    {
     "data": {
      "image/png": "[encoded data removed]",
      "text/plain": [
       "<Figure size 720x72 with 1 Axes>"
      ]
     },
     "metadata": {
      "needs_background": "light"
     },
     "output_type": "display_data"
    }
   ],
   "source": [
    "plot_sample(1)"
   ]
  },
  {
   "cell_type": "code",
   "execution_count": 44,
   "id": "9fea1005",
   "metadata": {},
   "outputs": [
    {
     "data": {
      "image/png": "[encoded data removed]",
      "text/plain": [
       "<Figure size 720x72 with 1 Axes>"
      ]
     },
     "metadata": {
      "needs_background": "light"
     },
     "output_type": "display_data"
    }
   ],
   "source": [
    "plot_sample(2)"
   ]
  },
  {
   "cell_type": "code",
   "execution_count": 45,
   "id": "6e5e37c1",
   "metadata": {},
   "outputs": [],
   "source": [
    "# create class to identify image\n",
    "classes = [\"airplane\", \"automobile\", \"bird\", \"cat\", \"deer\", \"dog\", \"frog\", \"horse\", \"ship\", \"truck\"]"
   ]
  },
  {
   "cell_type": "code",
   "execution_count": 46,
   "id": "98d9db51",
   "metadata": {},
   "outputs": [
    {
     "data": {
      "text/plain": [
       "array([4], dtype=uint8)"
      ]
     },
     "execution_count": 46,
     "metadata": {},
     "output_type": "execute_result"
    }
   ],
   "source": [
    "y_train[3] #returns array index but want the label"
   ]
  },
  {
   "cell_type": "code",
   "execution_count": 47,
   "id": "28533d2a",
   "metadata": {},
   "outputs": [
    {
     "data": {
      "text/plain": [
       "'deer'"
      ]
     },
     "execution_count": 47,
     "metadata": {},
     "output_type": "execute_result"
    }
   ],
   "source": [
    "classes[y_train[3][0]]"
   ]
  },
  {
   "cell_type": "markdown",
   "id": "201d9d9b",
   "metadata": {},
   "source": [
    "## Scale the images"
   ]
  },
  {
   "cell_type": "code",
   "execution_count": 48,
   "id": "474c7aeb",
   "metadata": {},
   "outputs": [],
   "source": [
    "# scaling between 0 & 1 to help with classification\n",
    "x_train_scaled = x_train / 255\n",
    "x_test_scaled = x_test / 255"
   ]
  },
  {
   "cell_type": "code",
   "execution_count": 49,
   "id": "bddaead8",
   "metadata": {},
   "outputs": [
    {
     "data": {
      "text/plain": [
       "array([[6],\n",
       "       [9],\n",
       "       [9],\n",
       "       [4],\n",
       "       [1]], dtype=uint8)"
      ]
     },
     "execution_count": 49,
     "metadata": {},
     "output_type": "execute_result"
    }
   ],
   "source": [
    "y_train[:5]"
   ]
  },
  {
   "cell_type": "markdown",
   "id": "99212fe1",
   "metadata": {},
   "source": [
    "## Convert to Categorical Class Using One-Hot-Encoding"
   ]
  },
  {
   "cell_type": "code",
   "execution_count": 50,
   "id": "ba41830c",
   "metadata": {},
   "outputs": [
    {
     "data": {
      "text/plain": [
       "array([[0., 0., 0., 0., 0., 0., 1., 0., 0., 0.],\n",
       "       [0., 0., 0., 0., 0., 0., 0., 0., 0., 1.],\n",
       "       [0., 0., 0., 0., 0., 0., 0., 0., 0., 1.],\n",
       "       [0., 0., 0., 0., 1., 0., 0., 0., 0., 0.],\n",
       "       [0., 1., 0., 0., 0., 0., 0., 0., 0., 0.]], dtype=float32)"
      ]
     },
     "execution_count": 50,
     "metadata": {},
     "output_type": "execute_result"
    }
   ],
   "source": [
    "y_train_categorical = keras.utils.to_categorical(\n",
    "    y_train, num_classes=10, dtype='float32'\n",
    ")\n",
    "y_train_categorical[:5] #provides 1 where index of category is "
   ]
  },
  {
   "cell_type": "code",
   "execution_count": 51,
   "id": "baa48e84",
   "metadata": {},
   "outputs": [],
   "source": [
    "y_test_categorical = keras.utils.to_categorical(\n",
    "    y_test, num_classes=10, dtype='float32'\n",
    ")"
   ]
  },
  {
   "cell_type": "markdown",
   "id": "a1399074",
   "metadata": {},
   "source": [
    "## Building Model"
   ]
  },
  {
   "cell_type": "code",
   "execution_count": 52,
   "id": "43e70b78",
   "metadata": {},
   "outputs": [
    {
     "data": {
      "text/plain": [
       "(50000, 32, 32, 3)"
      ]
     },
     "execution_count": 52,
     "metadata": {},
     "output_type": "execute_result"
    }
   ],
   "source": [
    "#Checking input shape\n",
    "x_train.shape"
   ]
  },
  {
   "cell_type": "code",
   "execution_count": 53,
   "id": "694eb56c",
   "metadata": {},
   "outputs": [
    {
     "data": {
      "text/plain": [
       "3072"
      ]
     },
     "execution_count": 53,
     "metadata": {},
     "output_type": "execute_result"
    }
   ],
   "source": [
    "#input layer size after flattening\n",
    "32*32*3"
   ]
  },
  {
   "cell_type": "code",
   "execution_count": 54,
   "id": "8c875791",
   "metadata": {},
   "outputs": [
    {
     "data": {
      "text/plain": [
       "array([[0., 0., 0., ..., 0., 0., 0.],\n",
       "       [0., 0., 0., ..., 0., 0., 1.],\n",
       "       [0., 0., 0., ..., 0., 0., 1.],\n",
       "       ...,\n",
       "       [0., 0., 0., ..., 0., 0., 1.],\n",
       "       [0., 1., 0., ..., 0., 0., 0.],\n",
       "       [0., 1., 0., ..., 0., 0., 0.]], dtype=float32)"
      ]
     },
     "execution_count": 54,
     "metadata": {},
     "output_type": "execute_result"
    }
   ],
   "source": [
    "y_train_categorical # O-H-E output values again"
   ]
  },
  {
   "cell_type": "code",
   "execution_count": 55,
   "id": "1d14e4ea",
   "metadata": {
    "scrolled": true
   },
   "outputs": [
    {
     "name": "stdout",
     "output_type": "stream",
     "text": [
      "Epoch 1/60\n",
      "1563/1563 [==============================] - 69s 44ms/step - loss: 1.8130 - accuracy: 0.3554\n",
      "Epoch 2/60\n",
      "1563/1563 [==============================] - 70s 45ms/step - loss: 1.6220 - accuracy: 0.4283\n",
      "Epoch 3/60\n",
      "1563/1563 [==============================] - 70s 45ms/step - loss: 1.5396 - accuracy: 0.4563\n",
      "Epoch 4/60\n",
      "1563/1563 [==============================] - 70s 45ms/step - loss: 1.4818 - accuracy: 0.4775\n",
      "Epoch 5/60\n",
      "1563/1563 [==============================] - 77s 49ms/step - loss: 1.4327 - accuracy: 0.4937\n",
      "Epoch 6/60\n",
      "1563/1563 [==============================] - 77s 49ms/step - loss: 1.3882 - accuracy: 0.5124\n",
      "Epoch 7/60\n",
      "1563/1563 [==============================] - 85s 54ms/step - loss: 1.3502 - accuracy: 0.5234\n",
      "Epoch 8/60\n",
      "1563/1563 [==============================] - 72s 46ms/step - loss: 1.3165 - accuracy: 0.5377\n",
      "Epoch 9/60\n",
      "1563/1563 [==============================] - 70s 45ms/step - loss: 1.2815 - accuracy: 0.5519\n",
      "Epoch 10/60\n",
      "1563/1563 [==============================] - 70s 45ms/step - loss: 1.2505 - accuracy: 0.5614\n",
      "Epoch 11/60\n",
      "1563/1563 [==============================] - 70s 45ms/step - loss: 1.2217 - accuracy: 0.5713\n",
      "Epoch 12/60\n",
      "1563/1563 [==============================] - 73s 47ms/step - loss: 1.1936 - accuracy: 0.5813\n",
      "Epoch 13/60\n",
      "1563/1563 [==============================] - 80s 51ms/step - loss: 1.1662 - accuracy: 0.5914\n",
      "Epoch 14/60\n",
      "1563/1563 [==============================] - 72s 46ms/step - loss: 1.1372 - accuracy: 0.6025\n",
      "Epoch 15/60\n",
      "1563/1563 [==============================] - 67s 43ms/step - loss: 1.1118 - accuracy: 0.6124\n",
      "Epoch 16/60\n",
      "1563/1563 [==============================] - 71s 46ms/step - loss: 1.0864 - accuracy: 0.6218\n",
      "Epoch 17/60\n",
      "1563/1563 [==============================] - 68s 44ms/step - loss: 1.0607 - accuracy: 0.6284\n",
      "Epoch 18/60\n",
      "1563/1563 [==============================] - 67s 43ms/step - loss: 1.0344 - accuracy: 0.6412\n",
      "Epoch 19/60\n",
      "1563/1563 [==============================] - 69s 44ms/step - loss: 1.0072 - accuracy: 0.6499\n",
      "Epoch 20/60\n",
      "1563/1563 [==============================] - 65s 42ms/step - loss: 0.9802 - accuracy: 0.6610\n",
      "Epoch 21/60\n",
      "1563/1563 [==============================] - 65s 42ms/step - loss: 0.9578 - accuracy: 0.6704\n",
      "Epoch 22/60\n",
      "1563/1563 [==============================] - 66s 42ms/step - loss: 0.9304 - accuracy: 0.6774\n",
      "Epoch 23/60\n",
      "1563/1563 [==============================] - 66s 42ms/step - loss: 0.9061 - accuracy: 0.6858\n",
      "Epoch 24/60\n",
      "1563/1563 [==============================] - 73s 46ms/step - loss: 0.8803 - accuracy: 0.6971\n",
      "Epoch 25/60\n",
      "1563/1563 [==============================] - 70s 45ms/step - loss: 0.8541 - accuracy: 0.7056\n",
      "Epoch 26/60\n",
      "1563/1563 [==============================] - 70s 45ms/step - loss: 0.8271 - accuracy: 0.7163\n",
      "Epoch 27/60\n",
      "1563/1563 [==============================] - 69s 44ms/step - loss: 0.8023 - accuracy: 0.7240\n",
      "Epoch 28/60\n",
      "1563/1563 [==============================] - 69s 44ms/step - loss: 0.7791 - accuracy: 0.7319\n",
      "Epoch 29/60\n",
      "1563/1563 [==============================] - 67s 43ms/step - loss: 0.7528 - accuracy: 0.7420\n",
      "Epoch 30/60\n",
      "1563/1563 [==============================] - 66s 42ms/step - loss: 0.7267 - accuracy: 0.7547\n",
      "Epoch 31/60\n",
      "1563/1563 [==============================] - 66s 42ms/step - loss: 0.7021 - accuracy: 0.7612\n",
      "Epoch 32/60\n",
      "1563/1563 [==============================] - 66s 43ms/step - loss: 0.6768 - accuracy: 0.7703\n",
      "Epoch 33/60\n",
      "1563/1563 [==============================] - 66s 42ms/step - loss: 0.6550 - accuracy: 0.7765\n",
      "Epoch 34/60\n",
      "1563/1563 [==============================] - 65s 42ms/step - loss: 0.6284 - accuracy: 0.7898\n",
      "Epoch 35/60\n",
      "1563/1563 [==============================] - 65s 42ms/step - loss: 0.6059 - accuracy: 0.7968\n",
      "Epoch 36/60\n",
      "1563/1563 [==============================] - 66s 42ms/step - loss: 0.5801 - accuracy: 0.8084\n",
      "Epoch 37/60\n",
      "1563/1563 [==============================] - 72s 46ms/step - loss: 0.5561 - accuracy: 0.8149\n",
      "Epoch 38/60\n",
      "1563/1563 [==============================] - 71s 46ms/step - loss: 0.5336 - accuracy: 0.8223\n",
      "Epoch 39/60\n",
      "1563/1563 [==============================] - 71s 46ms/step - loss: 0.5126 - accuracy: 0.8309\n",
      "Epoch 40/60\n",
      "1563/1563 [==============================] - 71s 45ms/step - loss: 0.4851 - accuracy: 0.8418\n",
      "Epoch 41/60\n",
      "1563/1563 [==============================] - 71s 45ms/step - loss: 0.4644 - accuracy: 0.8507\n",
      "Epoch 42/60\n",
      "1563/1563 [==============================] - 71s 45ms/step - loss: 0.4443 - accuracy: 0.8555\n",
      "Epoch 43/60\n",
      "1563/1563 [==============================] - 71s 45ms/step - loss: 0.4251 - accuracy: 0.8632\n",
      "Epoch 44/60\n",
      "1563/1563 [==============================] - 71s 45ms/step - loss: 0.4016 - accuracy: 0.8723\n",
      "Epoch 45/60\n",
      "1563/1563 [==============================] - 70s 45ms/step - loss: 0.3833 - accuracy: 0.8797\n",
      "Epoch 46/60\n",
      "1563/1563 [==============================] - 70s 45ms/step - loss: 0.3651 - accuracy: 0.8857\n",
      "Epoch 47/60\n",
      "1563/1563 [==============================] - 70s 45ms/step - loss: 0.3479 - accuracy: 0.8926\n",
      "Epoch 48/60\n",
      "1563/1563 [==============================] - 70s 45ms/step - loss: 0.3266 - accuracy: 0.9000\n",
      "Epoch 49/60\n",
      "1563/1563 [==============================] - 70s 45ms/step - loss: 0.3068 - accuracy: 0.9078\n",
      "Epoch 50/60\n",
      "1563/1563 [==============================] - 74s 47ms/step - loss: 0.2903 - accuracy: 0.9128\n",
      "Epoch 51/60\n",
      "1563/1563 [==============================] - 68s 44ms/step - loss: 0.2788 - accuracy: 0.9175\n",
      "Epoch 52/60\n",
      "1563/1563 [==============================] - 65s 42ms/step - loss: 0.2585 - accuracy: 0.9246\n",
      "Epoch 53/60\n",
      "1563/1563 [==============================] - 66s 42ms/step - loss: 0.2442 - accuracy: 0.9302\n",
      "Epoch 54/60\n",
      "1563/1563 [==============================] - 66s 42ms/step - loss: 0.2286 - accuracy: 0.9358\n",
      "Epoch 55/60\n",
      "1563/1563 [==============================] - 66s 43ms/step - loss: 0.2157 - accuracy: 0.9397\n",
      "Epoch 56/60\n",
      "1563/1563 [==============================] - 71s 45ms/step - loss: 0.2016 - accuracy: 0.9451\n",
      "Epoch 57/60\n",
      "1563/1563 [==============================] - 66s 42ms/step - loss: 0.1891 - accuracy: 0.9489\n",
      "Epoch 58/60\n",
      "1563/1563 [==============================] - 66s 42ms/step - loss: 0.1779 - accuracy: 0.9526\n",
      "Epoch 59/60\n",
      "1563/1563 [==============================] - 66s 42ms/step - loss: 0.1657 - accuracy: 0.9570\n",
      "Epoch 60/60\n",
      "1563/1563 [==============================] - 67s 43ms/step - loss: 0.1568 - accuracy: 0.9612\n"
     ]
    },
    {
     "data": {
      "text/plain": [
       "<keras.callbacks.History at 0x1874e96da60>"
      ]
     },
     "execution_count": 55,
     "metadata": {},
     "output_type": "execute_result"
    }
   ],
   "source": [
    "model = keras.Sequential([\n",
    "    keras.layers.Flatten(input_shape=(32,32,3)),\n",
    "    keras.layers.Dense(3000, activation='relu'),\n",
    "    keras.layers.Dense(1000, activation='relu'),\n",
    "    keras.layers.Dense(10, activation='sigmoid')\n",
    "])\n",
    "model.compile(\n",
    "    optimizer='SGD',\n",
    "    loss=keras.losses.CategoricalCrossentropy(),\n",
    "    metrics=['accuracy']\n",
    ")\n",
    "model.fit(x_train_scaled, y_train_categorical, epochs=60)"
   ]
  },
  {
   "cell_type": "code",
   "execution_count": 56,
   "id": "70a47a81",
   "metadata": {
    "scrolled": true
   },
   "outputs": [
    {
     "data": {
      "text/plain": [
       "'cat'"
      ]
     },
     "execution_count": 56,
     "metadata": {},
     "output_type": "execute_result"
    }
   ],
   "source": [
    "classes[np.argmax(model.predict(x_test_scaled)[0])]#gives index of maximum number then gives label"
   ]
  },
  {
   "cell_type": "code",
   "execution_count": 57,
   "id": "40319d7a",
   "metadata": {},
   "outputs": [
    {
     "data": {
      "text/plain": [
       "'cat'"
      ]
     },
     "execution_count": 57,
     "metadata": {},
     "output_type": "execute_result"
    }
   ],
   "source": [
    "classes[y_test[0][0]]"
   ]
  },
  {
   "cell_type": "code",
   "execution_count": 59,
   "id": "49078149",
   "metadata": {},
   "outputs": [
    {
     "data": {
      "text/plain": [
       "array([9.8963320e-01, 9.9766928e-01, 6.6326290e-02, 1.3224822e-01,\n",
       "       2.2240877e-03, 2.9233098e-04, 2.5932964e-05, 2.9467854e-01,\n",
       "       9.9999940e-01, 9.9814296e-01], dtype=float32)"
      ]
     },
     "execution_count": 59,
     "metadata": {},
     "output_type": "execute_result"
    }
   ],
   "source": [
    "y_predicted = model.predict(x_test_scaled)\n",
    "y_predicted[1]"
   ]
  },
  {
   "cell_type": "code",
   "execution_count": 60,
   "id": "7677ee61",
   "metadata": {},
   "outputs": [
    {
     "data": {
      "text/plain": [
       "8"
      ]
     },
     "execution_count": 60,
     "metadata": {},
     "output_type": "execute_result"
    }
   ],
   "source": [
    "np.argmax(y_predicted[1])"
   ]
  },
  {
   "cell_type": "code",
   "execution_count": 61,
   "id": "9bc6609e",
   "metadata": {},
   "outputs": [
    {
     "data": {
      "text/plain": [
       "[3, 8, 8, 8, 4]"
      ]
     },
     "execution_count": 61,
     "metadata": {},
     "output_type": "execute_result"
    }
   ],
   "source": [
    "y_predicted_labels = [np.argmax(i) for i in y_predicted]\n",
    "y_predicted_labels[:5]"
   ]
  },
  {
   "cell_type": "code",
   "execution_count": 63,
   "id": "233d1de0",
   "metadata": {
    "scrolled": true
   },
   "outputs": [
    {
     "data": {
      "text/plain": [
       "<tf.Tensor: shape=(10, 10), dtype=int32, numpy=\n",
       "array([[612,  17,   6,  92,  13,   5,  27,  34, 152,  42],\n",
       "       [ 31, 622,   4,  54,   4,   2,  12,  32, 125, 114],\n",
       "       [ 82,  10, 168, 347,  68,  38, 110, 116,  43,  18],\n",
       "       [ 11,  11,   7, 733,  11,  36,  63,  87,  23,  18],\n",
       "       [ 43,   4,  23, 278, 315,  13, 136, 138,  37,  13],\n",
       "       [ 17,   5,   3, 595,  22, 171,  46, 106,  25,  10],\n",
       "       [  7,  10,  14, 233,  31,  11, 638,  28,  17,  11],\n",
       "       [ 26,  12,   5, 142,  22,  19,  12, 712,  24,  26],\n",
       "       [ 73,  34,   3,  65,   3,   0,   3,  17, 776,  26],\n",
       "       [ 37, 134,   0,  73,   3,  12,  15,  58,  99, 569]])>"
      ]
     },
     "execution_count": 63,
     "metadata": {},
     "output_type": "execute_result"
    }
   ],
   "source": [
    "cm = tf.math.confusion_matrix(labels=y_test, predictions=y_predicted_labels)\n",
    "cm"
   ]
  },
  {
   "cell_type": "code",
   "execution_count": 64,
   "id": "f48d4f8b",
   "metadata": {},
   "outputs": [
    {
     "data": {
      "text/plain": [
       "Text(69.0, 0.5, 'True')"
      ]
     },
     "execution_count": 64,
     "metadata": {},
     "output_type": "execute_result"
    },
    {
     "data": {
      "image/png": "[encoded data removed]",
      "text/plain": [
       "<Figure size 720x504 with 2 Axes>"
      ]
     },
     "metadata": {
      "needs_background": "light"
     },
     "output_type": "display_data"
    }
   ],
   "source": [
    "import seaborn as sb\n",
    "plt.figure(figsize=(10,7))\n",
    "sb.heatmap(cm, annot=True, fmt='d')\n",
    "plt.xlabel(\"Predicted\")\n",
    "plt.ylabel(\"True\")"
   ]
  }
 ],
 "metadata": {
  "kernelspec": {
   "display_name": "Python 3 (ipykernel)",
   "language": "python",
   "name": "python3"
  },
  "language_info": {
   "codemirror_mode": {
    "name": "ipython",
    "version": 3
   },
   "file_extension": ".py",
   "mimetype": "text/x-python",
   "name": "python",
   "nbconvert_exporter": "python",
   "pygments_lexer": "ipython3",
   "version": "3.9.12"
  }
 },
 "nbformat": 4,
 "nbformat_minor": 5
}
